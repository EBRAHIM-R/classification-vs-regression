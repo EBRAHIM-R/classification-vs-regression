{
 "cells": [
  {
   "cell_type": "code",
   "execution_count": 1,
   "metadata": {},
   "outputs": [],
   "source": [
    "import pandas as pd\n",
    "import numpy as np\n",
    "import seaborn as sns\n",
    "from sklearn.metrics import accuracy_score\n",
    "from sklearn.model_selection import train_test_split\n",
    "from sklearn.neighbors import KNeighborsClassifier\n",
    "from sklearn.preprocessing import LabelEncoder\n",
    "from sklearn.linear_model import LinearRegression\n",
    "from sklearn.metrics import r2_score\n",
    "from sklearn.metrics import mean_squared_error\n",
    "from sklearn.preprocessing import scale\n",
    "from sklearn.ensemble import RandomForestRegressor"
   ]
  },
  {
   "cell_type": "code",
   "execution_count": 2,
   "metadata": {},
   "outputs": [
    {
     "data": {
      "text/html": [
       "<div>\n",
       "<style scoped>\n",
       "    .dataframe tbody tr th:only-of-type {\n",
       "        vertical-align: middle;\n",
       "    }\n",
       "\n",
       "    .dataframe tbody tr th {\n",
       "        vertical-align: top;\n",
       "    }\n",
       "\n",
       "    .dataframe thead th {\n",
       "        text-align: right;\n",
       "    }\n",
       "</style>\n",
       "<table border=\"1\" class=\"dataframe\">\n",
       "  <thead>\n",
       "    <tr style=\"text-align: right;\">\n",
       "      <th></th>\n",
       "      <th>Area</th>\n",
       "      <th>Room</th>\n",
       "      <th>Parking</th>\n",
       "      <th>Warehouse</th>\n",
       "      <th>Elevator</th>\n",
       "      <th>Address</th>\n",
       "      <th>Price</th>\n",
       "      <th>Price(USD)</th>\n",
       "    </tr>\n",
       "  </thead>\n",
       "  <tbody>\n",
       "    <tr>\n",
       "      <th>0</th>\n",
       "      <td>63.0</td>\n",
       "      <td>1</td>\n",
       "      <td>True</td>\n",
       "      <td>True</td>\n",
       "      <td>True</td>\n",
       "      <td>Shahran</td>\n",
       "      <td>1.850000e+09</td>\n",
       "      <td>61666.67</td>\n",
       "    </tr>\n",
       "    <tr>\n",
       "      <th>1</th>\n",
       "      <td>60.0</td>\n",
       "      <td>1</td>\n",
       "      <td>True</td>\n",
       "      <td>True</td>\n",
       "      <td>True</td>\n",
       "      <td>Shahran</td>\n",
       "      <td>1.850000e+09</td>\n",
       "      <td>61666.67</td>\n",
       "    </tr>\n",
       "    <tr>\n",
       "      <th>2</th>\n",
       "      <td>79.0</td>\n",
       "      <td>2</td>\n",
       "      <td>True</td>\n",
       "      <td>True</td>\n",
       "      <td>True</td>\n",
       "      <td>Pardis</td>\n",
       "      <td>5.500000e+08</td>\n",
       "      <td>18333.33</td>\n",
       "    </tr>\n",
       "    <tr>\n",
       "      <th>3</th>\n",
       "      <td>95.0</td>\n",
       "      <td>2</td>\n",
       "      <td>True</td>\n",
       "      <td>True</td>\n",
       "      <td>True</td>\n",
       "      <td>Shahrake Qods</td>\n",
       "      <td>9.025000e+08</td>\n",
       "      <td>30083.33</td>\n",
       "    </tr>\n",
       "    <tr>\n",
       "      <th>4</th>\n",
       "      <td>123.0</td>\n",
       "      <td>2</td>\n",
       "      <td>True</td>\n",
       "      <td>True</td>\n",
       "      <td>True</td>\n",
       "      <td>Shahrake Gharb</td>\n",
       "      <td>7.000000e+09</td>\n",
       "      <td>233333.33</td>\n",
       "    </tr>\n",
       "    <tr>\n",
       "      <th>5</th>\n",
       "      <td>70.0</td>\n",
       "      <td>2</td>\n",
       "      <td>True</td>\n",
       "      <td>True</td>\n",
       "      <td>False</td>\n",
       "      <td>North Program Organization</td>\n",
       "      <td>2.050000e+09</td>\n",
       "      <td>68333.33</td>\n",
       "    </tr>\n",
       "    <tr>\n",
       "      <th>6</th>\n",
       "      <td>87.0</td>\n",
       "      <td>2</td>\n",
       "      <td>True</td>\n",
       "      <td>True</td>\n",
       "      <td>True</td>\n",
       "      <td>Pardis</td>\n",
       "      <td>6.000000e+08</td>\n",
       "      <td>20000.00</td>\n",
       "    </tr>\n",
       "    <tr>\n",
       "      <th>7</th>\n",
       "      <td>59.0</td>\n",
       "      <td>1</td>\n",
       "      <td>True</td>\n",
       "      <td>True</td>\n",
       "      <td>True</td>\n",
       "      <td>Shahran</td>\n",
       "      <td>2.150000e+09</td>\n",
       "      <td>71666.67</td>\n",
       "    </tr>\n",
       "    <tr>\n",
       "      <th>8</th>\n",
       "      <td>54.0</td>\n",
       "      <td>2</td>\n",
       "      <td>True</td>\n",
       "      <td>True</td>\n",
       "      <td>False</td>\n",
       "      <td>Andisheh</td>\n",
       "      <td>4.930000e+08</td>\n",
       "      <td>16433.33</td>\n",
       "    </tr>\n",
       "    <tr>\n",
       "      <th>9</th>\n",
       "      <td>71.0</td>\n",
       "      <td>1</td>\n",
       "      <td>True</td>\n",
       "      <td>True</td>\n",
       "      <td>True</td>\n",
       "      <td>West Ferdows Boulevard</td>\n",
       "      <td>2.370000e+09</td>\n",
       "      <td>79000.00</td>\n",
       "    </tr>\n",
       "  </tbody>\n",
       "</table>\n",
       "</div>"
      ],
      "text/plain": [
       "    Area  Room  Parking  Warehouse  Elevator                     Address  \\\n",
       "0   63.0     1     True       True      True                     Shahran   \n",
       "1   60.0     1     True       True      True                     Shahran   \n",
       "2   79.0     2     True       True      True                      Pardis   \n",
       "3   95.0     2     True       True      True               Shahrake Qods   \n",
       "4  123.0     2     True       True      True              Shahrake Gharb   \n",
       "5   70.0     2     True       True     False  North Program Organization   \n",
       "6   87.0     2     True       True      True                      Pardis   \n",
       "7   59.0     1     True       True      True                     Shahran   \n",
       "8   54.0     2     True       True     False                    Andisheh   \n",
       "9   71.0     1     True       True      True      West Ferdows Boulevard   \n",
       "\n",
       "          Price  Price(USD)  \n",
       "0  1.850000e+09    61666.67  \n",
       "1  1.850000e+09    61666.67  \n",
       "2  5.500000e+08    18333.33  \n",
       "3  9.025000e+08    30083.33  \n",
       "4  7.000000e+09   233333.33  \n",
       "5  2.050000e+09    68333.33  \n",
       "6  6.000000e+08    20000.00  \n",
       "7  2.150000e+09    71666.67  \n",
       "8  4.930000e+08    16433.33  \n",
       "9  2.370000e+09    79000.00  "
      ]
     },
     "execution_count": 2,
     "metadata": {},
     "output_type": "execute_result"
    }
   ],
   "source": [
    "# loading dataset\n",
    "\n",
    "# read dataset\n",
    "df1 = pd.read_csv(\"datasets/housePrice.csv\")\n",
    "\n",
    "# take a copy of dataset\n",
    "df = df1.copy()\n",
    "\n",
    "# convert Area to numeric feature\n",
    "df['Area'] = pd.to_numeric(df['Area'], errors='coerce') \n",
    "\n",
    "\n",
    "# show the first 10 rows from dataset\n",
    "df.head(10)"
   ]
  },
  {
   "cell_type": "code",
   "execution_count": 3,
   "metadata": {},
   "outputs": [
    {
     "name": "stdout",
     "output_type": "stream",
     "text": [
      "the sum of null values in dataset befor handling missing values:\n",
      "Area           6\n",
      "Room           0\n",
      "Parking        0\n",
      "Warehouse      0\n",
      "Elevator       0\n",
      "Address       23\n",
      "Price          0\n",
      "Price(USD)     0\n",
      "dtype: int64\n",
      "**************************************************\n",
      "the sum of null values in dataset after handling missing values:\n",
      "Area          0\n",
      "Room          0\n",
      "Parking       0\n",
      "Warehouse     0\n",
      "Elevator      0\n",
      "Address       0\n",
      "Price         0\n",
      "Price(USD)    0\n",
      "dtype: int64\n"
     ]
    }
   ],
   "source": [
    "# Remove missing values from dataset\n",
    "\n",
    "# print number missing value before handling in each column\n",
    "print(\"the sum of null values in dataset befor handling missing values:\")\n",
    "print(df.isnull().sum()) \n",
    "\n",
    "# drop missing values from dataset\n",
    "df = df.dropna(axis=0) # remove rows that contain missing value\n",
    "print(\"*\" * 50)\n",
    "\n",
    "# print number missing value after handling in each column\n",
    "print(\"the sum of null values in dataset after handling missing values:\")\n",
    "print(df.isnull().sum())"
   ]
  },
  {
   "cell_type": "code",
   "execution_count": 4,
   "metadata": {},
   "outputs": [
    {
     "name": "stdout",
     "output_type": "stream",
     "text": [
      "this data after converting:\n"
     ]
    },
    {
     "data": {
      "text/html": [
       "<div>\n",
       "<style scoped>\n",
       "    .dataframe tbody tr th:only-of-type {\n",
       "        vertical-align: middle;\n",
       "    }\n",
       "\n",
       "    .dataframe tbody tr th {\n",
       "        vertical-align: top;\n",
       "    }\n",
       "\n",
       "    .dataframe thead th {\n",
       "        text-align: right;\n",
       "    }\n",
       "</style>\n",
       "<table border=\"1\" class=\"dataframe\">\n",
       "  <thead>\n",
       "    <tr style=\"text-align: right;\">\n",
       "      <th></th>\n",
       "      <th>Area</th>\n",
       "      <th>Room</th>\n",
       "      <th>Parking</th>\n",
       "      <th>Warehouse</th>\n",
       "      <th>Elevator</th>\n",
       "      <th>Address</th>\n",
       "      <th>Price</th>\n",
       "      <th>Price(USD)</th>\n",
       "    </tr>\n",
       "  </thead>\n",
       "  <tbody>\n",
       "    <tr>\n",
       "      <th>0</th>\n",
       "      <td>63.0</td>\n",
       "      <td>1</td>\n",
       "      <td>1</td>\n",
       "      <td>1</td>\n",
       "      <td>1</td>\n",
       "      <td>156</td>\n",
       "      <td>1.850000e+09</td>\n",
       "      <td>61666.67</td>\n",
       "    </tr>\n",
       "    <tr>\n",
       "      <th>1</th>\n",
       "      <td>60.0</td>\n",
       "      <td>1</td>\n",
       "      <td>1</td>\n",
       "      <td>1</td>\n",
       "      <td>1</td>\n",
       "      <td>156</td>\n",
       "      <td>1.850000e+09</td>\n",
       "      <td>61666.67</td>\n",
       "    </tr>\n",
       "    <tr>\n",
       "      <th>2</th>\n",
       "      <td>79.0</td>\n",
       "      <td>2</td>\n",
       "      <td>1</td>\n",
       "      <td>1</td>\n",
       "      <td>1</td>\n",
       "      <td>117</td>\n",
       "      <td>5.500000e+08</td>\n",
       "      <td>18333.33</td>\n",
       "    </tr>\n",
       "    <tr>\n",
       "      <th>3</th>\n",
       "      <td>95.0</td>\n",
       "      <td>2</td>\n",
       "      <td>1</td>\n",
       "      <td>1</td>\n",
       "      <td>1</td>\n",
       "      <td>152</td>\n",
       "      <td>9.025000e+08</td>\n",
       "      <td>30083.33</td>\n",
       "    </tr>\n",
       "    <tr>\n",
       "      <th>4</th>\n",
       "      <td>123.0</td>\n",
       "      <td>2</td>\n",
       "      <td>1</td>\n",
       "      <td>1</td>\n",
       "      <td>1</td>\n",
       "      <td>150</td>\n",
       "      <td>7.000000e+09</td>\n",
       "      <td>233333.33</td>\n",
       "    </tr>\n",
       "    <tr>\n",
       "      <th>5</th>\n",
       "      <td>70.0</td>\n",
       "      <td>2</td>\n",
       "      <td>1</td>\n",
       "      <td>1</td>\n",
       "      <td>0</td>\n",
       "      <td>106</td>\n",
       "      <td>2.050000e+09</td>\n",
       "      <td>68333.33</td>\n",
       "    </tr>\n",
       "    <tr>\n",
       "      <th>6</th>\n",
       "      <td>87.0</td>\n",
       "      <td>2</td>\n",
       "      <td>1</td>\n",
       "      <td>1</td>\n",
       "      <td>1</td>\n",
       "      <td>117</td>\n",
       "      <td>6.000000e+08</td>\n",
       "      <td>20000.00</td>\n",
       "    </tr>\n",
       "    <tr>\n",
       "      <th>7</th>\n",
       "      <td>59.0</td>\n",
       "      <td>1</td>\n",
       "      <td>1</td>\n",
       "      <td>1</td>\n",
       "      <td>1</td>\n",
       "      <td>156</td>\n",
       "      <td>2.150000e+09</td>\n",
       "      <td>71666.67</td>\n",
       "    </tr>\n",
       "    <tr>\n",
       "      <th>8</th>\n",
       "      <td>54.0</td>\n",
       "      <td>2</td>\n",
       "      <td>1</td>\n",
       "      <td>1</td>\n",
       "      <td>0</td>\n",
       "      <td>13</td>\n",
       "      <td>4.930000e+08</td>\n",
       "      <td>16433.33</td>\n",
       "    </tr>\n",
       "    <tr>\n",
       "      <th>9</th>\n",
       "      <td>71.0</td>\n",
       "      <td>1</td>\n",
       "      <td>1</td>\n",
       "      <td>1</td>\n",
       "      <td>1</td>\n",
       "      <td>183</td>\n",
       "      <td>2.370000e+09</td>\n",
       "      <td>79000.00</td>\n",
       "    </tr>\n",
       "  </tbody>\n",
       "</table>\n",
       "</div>"
      ],
      "text/plain": [
       "    Area  Room  Parking  Warehouse  Elevator  Address         Price  \\\n",
       "0   63.0     1        1          1         1      156  1.850000e+09   \n",
       "1   60.0     1        1          1         1      156  1.850000e+09   \n",
       "2   79.0     2        1          1         1      117  5.500000e+08   \n",
       "3   95.0     2        1          1         1      152  9.025000e+08   \n",
       "4  123.0     2        1          1         1      150  7.000000e+09   \n",
       "5   70.0     2        1          1         0      106  2.050000e+09   \n",
       "6   87.0     2        1          1         1      117  6.000000e+08   \n",
       "7   59.0     1        1          1         1      156  2.150000e+09   \n",
       "8   54.0     2        1          1         0       13  4.930000e+08   \n",
       "9   71.0     1        1          1         1      183  2.370000e+09   \n",
       "\n",
       "   Price(USD)  \n",
       "0    61666.67  \n",
       "1    61666.67  \n",
       "2    18333.33  \n",
       "3    30083.33  \n",
       "4   233333.33  \n",
       "5    68333.33  \n",
       "6    20000.00  \n",
       "7    71666.67  \n",
       "8    16433.33  \n",
       "9    79000.00  "
      ]
     },
     "execution_count": 4,
     "metadata": {},
     "output_type": "execute_result"
    }
   ],
   "source": [
    "# convert categorical features to numerical\n",
    "\n",
    "# Creating a instance of label Encoder.\n",
    "le = LabelEncoder()\n",
    "\n",
    "# creating list that contain catefories features\n",
    "categories = [\"Elevator\", \"Warehouse\", \"Parking\",\"Address\"]\n",
    "\n",
    "\n",
    "# apply LabelEncoder on all categorical features\n",
    "for item in categories:\n",
    "    label = le.fit_transform(df[item])\n",
    "    df[item] = label\n",
    "\n",
    "\n",
    "\n",
    "\n",
    "# show data after that\n",
    "print(\"this data after converting:\")\n",
    "df.head(10)\n"
   ]
  },
  {
   "cell_type": "code",
   "execution_count": 5,
   "metadata": {},
   "outputs": [
    {
     "name": "stdout",
     "output_type": "stream",
     "text": [
      "the shape of dataset befor remove duplicated rows is: (3450, 8)\n",
      "the shape of dataset after remove duplicated rows is: (3242, 8)\n",
      "number of rows that is removed is: 208\n"
     ]
    }
   ],
   "source": [
    "# remove duplicated rows\n",
    "\n",
    "# remove duplicated rows fom dataset\n",
    "df_duplicates_removed = df.drop_duplicates()\n",
    "\n",
    "print(\"the shape of dataset befor remove duplicated rows is: {}\".format(df.shape))\n",
    "print(\"the shape of dataset after remove duplicated rows is: {}\".format(df_duplicates_removed.shape))\n",
    "print(\"number of rows that is removed is: {}\".format(df.shape[0] - df_duplicates_removed.shape[0]))"
   ]
  },
  {
   "cell_type": "code",
   "execution_count": 6,
   "metadata": {},
   "outputs": [
    {
     "name": "stdout",
     "output_type": "stream",
     "text": [
      "array of correlation between features is:\n",
      "                Area      Room   Parking  Warehouse  Elevator   Address  \\\n",
      "Area        1.000000  0.672955  0.197890   0.076161  0.051473 -0.127673   \n",
      "Room        0.672955  1.000000  0.274425   0.129649  0.180380 -0.075674   \n",
      "Parking     0.197890  0.274425  1.000000   0.431925  0.430213  0.021754   \n",
      "Warehouse   0.076161  0.129649  0.431925   1.000000  0.202708  0.017290   \n",
      "Elevator    0.051473  0.180380  0.430213   0.202708  1.000000  0.072955   \n",
      "Address    -0.127673 -0.075674  0.021754   0.017290  0.072955  1.000000   \n",
      "Price       0.722611  0.567872  0.191221   0.109676  0.111745 -0.075901   \n",
      "Price(USD)  0.722611  0.567872  0.191221   0.109676  0.111745 -0.075901   \n",
      "\n",
      "               Price  Price(USD)  \n",
      "Area        0.722611    0.722611  \n",
      "Room        0.567872    0.567872  \n",
      "Parking     0.191221    0.191221  \n",
      "Warehouse   0.109676    0.109676  \n",
      "Elevator    0.111745    0.111745  \n",
      "Address    -0.075901   -0.075901  \n",
      "Price       1.000000    1.000000  \n",
      "Price(USD)  1.000000    1.000000  \n",
      "the correlated features that greater than 0.8 and less than -0.8 is: {'Price(USD)'}\n"
     ]
    }
   ],
   "source": [
    "# show correlated attributes \n",
    "correlated_features1 = set()\n",
    "correlated_features2 = set()\n",
    "\n",
    "# the matrix that represent correlation\n",
    "correlation_matrix = df.corr()\n",
    "\n",
    "# show correlation matrix\n",
    "print(\"array of correlation between features is:\")\n",
    "print(correlation_matrix)\n",
    "\n",
    "# put features correlated bigger than 0.8 and less than -0.8 in two sets\n",
    "for i in range(len(correlation_matrix.columns)):\n",
    "    for j in range(i):\n",
    "        if correlation_matrix.iloc[i, j] > 0.8:\n",
    "            colname = correlation_matrix.columns[i]\n",
    "            correlated_features1.add(colname)\n",
    "        elif correlation_matrix.iloc[i, j] < -0.8:\n",
    "            colname = correlation_matrix.columns[i]\n",
    "            correlated_features2.add(colname)\n",
    "            \n",
    "# combination two sets in one set            \n",
    "correlated_features1.update(correlated_features2)\n",
    "\n",
    "# show features that correlated greater than 0.8 and less than -0.8\n",
    "print(\"the correlated features that greater than 0.8 and less than -0.8 is: {}\".format(correlated_features1))\n"
   ]
  },
  {
   "cell_type": "code",
   "execution_count": 7,
   "metadata": {},
   "outputs": [],
   "source": [
    "# remove all features that correlated greater than 0.8 and less than -0.8 from dataset\n",
    "df.drop(labels=correlated_features1, axis=1, inplace=True)\n"
   ]
  },
  {
   "cell_type": "code",
   "execution_count": 8,
   "metadata": {
    "scrolled": true
   },
   "outputs": [],
   "source": [
    "# create new file contain dataset after preprocessing\n",
    "df.to_csv(\"datasets after cleaning/clean_regression_dataset.csv\")\n"
   ]
  },
  {
   "cell_type": "code",
   "execution_count": 9,
   "metadata": {},
   "outputs": [
    {
     "name": "stdout",
     "output_type": "stream",
     "text": [
      "shape of X_train: (2415, 6)\n",
      "shape of y_train: (2415,)\n",
      "shape of X_test: (1035, 6)\n",
      "shape of y_train: (1035,)\n"
     ]
    }
   ],
   "source": [
    "# splitting dataset to training data and testing data\n",
    "\n",
    "# target column\n",
    "target_col = \"Price\"\n",
    "\n",
    "# X_train dataset\n",
    "X_train = df.drop(columns=[target_col])\n",
    "\n",
    "# y_train dataset contains one feature (\"price\" only)\n",
    "y_train = df.loc[:, target_col]\n",
    "\n",
    "# split dataset with 70% training data and 30% testing data\n",
    "X_train, X_test, y_train, y_test = train_test_split(X_train, y_train, test_size = 0.3, random_state = 0) \n",
    "\n",
    "# print the shape for each dataset \n",
    "print(f\"shape of X_train: {X_train.shape}\")\n",
    "print(f\"shape of y_train: {y_train.shape}\")\n",
    "print(f\"shape of X_test: {X_test.shape}\")\n",
    "print(f\"shape of y_train: {y_test.shape}\")"
   ]
  },
  {
   "cell_type": "code",
   "execution_count": 10,
   "metadata": {},
   "outputs": [
    {
     "name": "stderr",
     "output_type": "stream",
     "text": [
      "C:\\Users\\mm\\anaconda3\\lib\\site-packages\\sklearn\\preprocessing\\_data.py:173: UserWarning: Numerical issues were encountered when centering the data and might not be solved. Dataset may contain too large values. You may need to prescale your features.\n",
      "  warnings.warn(\"Numerical issues were encountered \"\n",
      "C:\\Users\\mm\\anaconda3\\lib\\site-packages\\sklearn\\preprocessing\\_data.py:173: UserWarning: Numerical issues were encountered when centering the data and might not be solved. Dataset may contain too large values. You may need to prescale your features.\n",
      "  warnings.warn(\"Numerical issues were encountered \"\n"
     ]
    }
   ],
   "source": [
    "# apply scaling to all dataset\n",
    "X_train = scale(X_train)\n",
    "X_test = scale(X_test)\n",
    "y_train = scale(y_train)\n",
    "y_test = scale(y_test)"
   ]
  },
  {
   "cell_type": "code",
   "execution_count": 11,
   "metadata": {},
   "outputs": [
    {
     "name": "stdout",
     "output_type": "stream",
     "text": [
      "Accuracy of the model is: 63.359538990192085\n",
      "Mean squared error: 0.3664046100980791\n",
      "intercept is: -3.8266908224462935e-17\n",
      "slope is: [5.26725563e-01 2.17494893e-01 2.95958098e-04 4.27457599e-02\n",
      " 4.62029303e-02 2.14791493e-04]\n"
     ]
    }
   ],
   "source": [
    "# apply LinearRegression Algorithm \n",
    "model = LinearRegression()\n",
    "model.fit(X_train, y_train)\n",
    "y_pred_linear = model.predict(X_test)\n",
    "\n",
    "# calculat Accuracy and LinearRegression Metrices \n",
    "Accuracy=r2_score(y_test,y_pred_linear)*100\n",
    "print(\"Accuracy of the model is: {}\".format(Accuracy))\n",
    "print(\"Mean squared error: {}\".format(mean_squared_error(y_test, y_pred_linear)))\n",
    "print(\"intercept is: {}\".format(model.intercept_))\n",
    "print(\"slope is: {}\".format(model.coef_))"
   ]
  },
  {
   "cell_type": "code",
   "execution_count": 12,
   "metadata": {},
   "outputs": [
    {
     "data": {
      "image/png": "[encoded data removed]",
      "text/plain": [
       "<Figure size 432x288 with 1 Axes>"
      ]
     },
     "metadata": {
      "needs_background": "light"
     },
     "output_type": "display_data"
    }
   ],
   "source": [
    "# Draw a forecast chart linearRegression\n",
    "sns.regplot(x=y_test,y=y_pred_linear,ci=None,color ='red');"
   ]
  },
  {
   "cell_type": "code",
   "execution_count": 13,
   "metadata": {},
   "outputs": [
    {
     "name": "stdout",
     "output_type": "stream",
     "text": [
      "Accuracy of the model is: 68.29262777272682\n",
      "Mean squared error: 0.3170737222727319\n"
     ]
    }
   ],
   "source": [
    "# apply RandomForestRegressor Algorithm \n",
    "regressor = RandomForestRegressor(n_estimators = 100, random_state = 0)\n",
    "regressor.fit(X_train, y_train)\n",
    "y_pred_forest = regressor.predict(X_test)\n",
    "\n",
    "# calculat Accuracy and mean_squared_error \n",
    "Accuracy=r2_score(y_test,y_pred_forest)*100\n",
    "print(\"Accuracy of the model is: {}\".format(Accuracy))\n",
    "print(\"Mean squared error: {}\".format(mean_squared_error(y_test, y_pred_forest)))"
   ]
  },
  {
   "cell_type": "code",
   "execution_count": 14,
   "metadata": {},
   "outputs": [
    {
     "data": {
      "image/png": "[encoded data removed]",
      "text/plain": [
       "<Figure size 432x288 with 1 Axes>"
      ]
     },
     "metadata": {
      "needs_background": "light"
     },
     "output_type": "display_data"
    }
   ],
   "source": [
    "# Draw a forecast chart RandomForestRegressor\n",
    "sns.regplot(x=y_test,y=y_pred_forest,ci=None,color ='blue');"
   ]
  },
  {
   "cell_type": "code",
   "execution_count": null,
   "metadata": {},
   "outputs": [],
   "source": []
  }
 ],
 "metadata": {
  "kernelspec": {
   "display_name": "Python 3",
   "language": "python",
   "name": "python3"
  },
  "language_info": {
   "codemirror_mode": {
    "name": "ipython",
    "version": 3
   },
   "file_extension": ".py",
   "mimetype": "text/x-python",
   "name": "python",
   "nbconvert_exporter": "python",
   "pygments_lexer": "ipython3",
   "version": "3.7.6"
  }
 },
 "nbformat": 4,
 "nbformat_minor": 4
}
